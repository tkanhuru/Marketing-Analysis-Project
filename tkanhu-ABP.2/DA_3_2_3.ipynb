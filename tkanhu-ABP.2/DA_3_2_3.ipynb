{
  "nbformat": 4,
  "nbformat_minor": 0,
  "metadata": {
    "colab": {
      "name": "DA_3_2_3.ipynb",
      "provenance": [],
      "collapsed_sections": []
    },
    "kernelspec": {
      "name": "python3",
      "display_name": "Python 3"
    },
    "language_info": {
      "name": "python"
    }
  },
  "cells": [
    {
      "cell_type": "markdown",
      "source": [
        "# Module 3: Analyzing Business Problems\n",
        "## Sprint 2: Marketing Analyst\n",
        "## Part 3: Graded task\n",
        "\n",
        "- You have a follow up task from your marketing manager to identify overall trends of all marketing campaigns on your ecommerce site. She is particularly interested in finding out if users tend to spend more time on your website on certain weekdays and how that behavior differs across campaigns.\n",
        "- Create a presentation centered around the dynamic weekday duration, focusing on differences between marketing campaigns.\n",
        "- See whether you can apply 1-2 techniques learned in this or other modules throughout the course material to enhance your presentation on this subject.\n",
        "- Explore the data. See whether there are interesting data points that can give more insights to your presentation.\n",
        "- Provide analytical insights, what are the drawbacks of this analysis, what further analysis could you recommend? \n",
        "\n",
        "\n",
        "You should use the turing_college.raw_events table to answer this question. Write a SQL query that would extract data from BigQuery, make a visualization using Google Sheets and briefly comment your findings. As we do not have session identifiers in the dataset, you will have to come up with your own logic for how you will model sessions. Have in mind that a single user can come to your website on multiple days and if you were to calculate time on the website this may have an impact on this metric.\n",
        "\n",
        "## Evaluation criteria for a Graded project submission\n",
        "\n",
        "- SQL, correct columns identified to make analysis.\n",
        "- Logically modeled session duration.\n",
        "- SQL, correct logic created to make analysis. \n",
        "- SQL, code formatted well and is readable. \n",
        "- Google Sheets, visualisation is clear and communicates the message/answer.\n",
        "- Analysis, findings and main points clearly structured.\n",
        "\n",
        "*During a task review, you may get asked questions that test your understanding of covered topics.*\n",
        "\n",
        "**Sample questions:**\n",
        "\n",
        "- How did you interpret time on site metric and aggregated it?\n",
        "- How did you deal with session duration time to convert it to human readable format?\n",
        "- What marketing campaign tends to have the longest average session durations on Thursdays and Fridays?\n",
        "- Can you explain why long avg. session time on site can be interpreted as a good and bad thing?\n",
        "- Did avg. session on Friday for Black_Friday_V1 campaign takes longer than 1 hour?\n",
        "- Given this dataset how could you evaluate user engagement?\n",
        "\n",
        "## Submission\n",
        "Upload all solution files for this graded task to your GitHub repository using the \"Add File\" function.\n",
        "\n",
        "\n",
        "## Accessing the next notebook:\n",
        "After you schedule your project reviews, you can already start working on the next part from the upcoming sprint. To access it, go to https://github.com/TuringCollegeSubmissions/DA.3.4.1. If you need access to additional parts of the next sprint, contact Giedrius Zebrauskas via Discord. Once the project review is completed, you will see this content in the Turing platform normally.\n"
      ],
      "metadata": {
        "id": "jZuUKBM1EjOG"
      }
    }
  ]
}